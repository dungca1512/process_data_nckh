import pandas as pd


df = pd.read_csv("data.csv", encoding="utf-8")


df


df.info()


df.describe()


df.isnull().sum()


df['Dấu thời gian'] = pd.to_datetime(df['Dấu thời gian'], dayfirst=True)


df[['Dấu thời gian']]


from sklearn.preprocessing import StandardScaler

scaler = StandardScaler()
df_scaled = pd.DataFrame(scaler.fit_transform(df), columns=df.columns)



